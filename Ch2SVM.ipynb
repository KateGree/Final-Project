{
  "cells": [
    {
      "metadata": {
        "trusted": true
      },
      "cell_type": "code",
      "source": "from sklearn.ensemble import AdaBoostRegressor\nfrom sklearn import preprocessing\n#from statsmodels.api import datasets\nfrom sklearn import datasets ## Get dataset from sklearn\nimport sklearn.model_selection as ms\nimport sklearn.metrics as sklm\nimport matplotlib.pyplot as plt\nimport pandas as pd\nimport numpy as np\nimport numpy.random as nr\n",
      "execution_count": 21,
      "outputs": []
    },
    {
      "metadata": {
        "trusted": true
      },
      "cell_type": "code",
      "source": "data1 = pd.read_csv('train_values_oAriVNN.csv')\nLabels1 = np.array(pd.read_csv('train_labels.csv'))\nLabels=Labels1[:, [1]]\nLabels = Labels.reshape(Labels.shape[0],)\nprint(data1.shape)\nprint(Labels.shape)",
      "execution_count": 47,
      "outputs": [
        {
          "output_type": "stream",
          "text": "(2546, 48)\n(2546,)\n",
          "name": "stdout"
        }
      ]
    },
    {
      "metadata": {
        "trusted": true
      },
      "cell_type": "code",
      "source": "data=data1.fillna(value=0)\nprint(data.shape)",
      "execution_count": 48,
      "outputs": [
        {
          "output_type": "stream",
          "text": "(2546, 48)\n",
          "name": "stdout"
        }
      ]
    },
    {
      "metadata": {
        "trusted": true
      },
      "cell_type": "code",
      "source": "data.drop([\"row_id\",\"county_code\",\"state\"], axis=1, inplace=True)\ndata.head()",
      "execution_count": 49,
      "outputs": [
        {
          "output_type": "execute_result",
          "execution_count": 49,
          "data": {
            "text/html": "<div>\n<style scoped>\n    .dataframe tbody tr th:only-of-type {\n        vertical-align: middle;\n    }\n\n    .dataframe tbody tr th {\n        vertical-align: top;\n    }\n\n    .dataframe thead th {\n        text-align: right;\n    }\n</style>\n<table border=\"1\" class=\"dataframe\">\n  <thead>\n    <tr style=\"text-align: right;\">\n      <th></th>\n      <th>year</th>\n      <th>population</th>\n      <th>renter_occupied_households</th>\n      <th>pct_renter_occupied</th>\n      <th>median_gross_rent</th>\n      <th>median_household_income</th>\n      <th>median_property_value</th>\n      <th>rent_burden</th>\n      <th>pct_white</th>\n      <th>pct_af_am</th>\n      <th>...</th>\n      <th>pop_per_primary_care_physician</th>\n      <th>pct_female</th>\n      <th>pct_below_18_years_of_age</th>\n      <th>pct_aged_65_years_and_older</th>\n      <th>pct_adults_less_than_a_high_school_diploma</th>\n      <th>pct_adults_with_high_school_diploma</th>\n      <th>pct_adults_with_some_college</th>\n      <th>pct_adults_bachelors_or_higher</th>\n      <th>birth_rate_per_1k</th>\n      <th>death_rate_per_1k</th>\n    </tr>\n  </thead>\n  <tbody>\n    <tr>\n      <th>0</th>\n      <td>b</td>\n      <td>45009.0</td>\n      <td>6944.0</td>\n      <td>37.218</td>\n      <td>643.0</td>\n      <td>33315.0</td>\n      <td>98494.0</td>\n      <td>33.389</td>\n      <td>0.412070</td>\n      <td>0.493459</td>\n      <td>...</td>\n      <td>1960.0</td>\n      <td>0.532</td>\n      <td>0.252</td>\n      <td>0.153</td>\n      <td>0.233000</td>\n      <td>0.375000</td>\n      <td>0.278000</td>\n      <td>0.114000</td>\n      <td>12.915129</td>\n      <td>11.205112</td>\n    </tr>\n    <tr>\n      <th>1</th>\n      <td>a</td>\n      <td>9872.0</td>\n      <td>1224.0</td>\n      <td>31.773</td>\n      <td>517.0</td>\n      <td>43724.0</td>\n      <td>85444.0</td>\n      <td>26.477</td>\n      <td>0.838682</td>\n      <td>0.015588</td>\n      <td>...</td>\n      <td>890.0</td>\n      <td>0.509</td>\n      <td>0.252</td>\n      <td>0.188</td>\n      <td>0.073293</td>\n      <td>0.397590</td>\n      <td>0.331325</td>\n      <td>0.197791</td>\n      <td>11.049159</td>\n      <td>12.276843</td>\n    </tr>\n    <tr>\n      <th>2</th>\n      <td>b</td>\n      <td>17625.0</td>\n      <td>1725.0</td>\n      <td>21.973</td>\n      <td>671.0</td>\n      <td>37777.0</td>\n      <td>136162.0</td>\n      <td>32.500</td>\n      <td>0.873733</td>\n      <td>0.041040</td>\n      <td>...</td>\n      <td>3509.0</td>\n      <td>0.451</td>\n      <td>0.166</td>\n      <td>0.189</td>\n      <td>0.206587</td>\n      <td>0.303393</td>\n      <td>0.301397</td>\n      <td>0.188623</td>\n      <td>7.903576</td>\n      <td>10.161741</td>\n    </tr>\n    <tr>\n      <th>3</th>\n      <td>a</td>\n      <td>134136.0</td>\n      <td>18180.0</td>\n      <td>36.809</td>\n      <td>603.0</td>\n      <td>30607.0</td>\n      <td>70062.0</td>\n      <td>31.959</td>\n      <td>0.264083</td>\n      <td>0.240836</td>\n      <td>...</td>\n      <td>2219.0</td>\n      <td>0.519</td>\n      <td>0.263</td>\n      <td>0.125</td>\n      <td>0.248255</td>\n      <td>0.334995</td>\n      <td>0.290130</td>\n      <td>0.126620</td>\n      <td>13.137119</td>\n      <td>10.202072</td>\n    </tr>\n    <tr>\n      <th>4</th>\n      <td>a</td>\n      <td>6936.0</td>\n      <td>551.0</td>\n      <td>17.627</td>\n      <td>668.0</td>\n      <td>44237.0</td>\n      <td>187066.0</td>\n      <td>29.339</td>\n      <td>0.924502</td>\n      <td>0.005146</td>\n      <td>...</td>\n      <td>3410.0</td>\n      <td>0.487</td>\n      <td>0.196</td>\n      <td>0.203</td>\n      <td>0.058648</td>\n      <td>0.276342</td>\n      <td>0.413519</td>\n      <td>0.251491</td>\n      <td>6.084752</td>\n      <td>5.939877</td>\n    </tr>\n  </tbody>\n</table>\n<p>5 rows × 45 columns</p>\n</div>",
            "text/plain": "  year  population  renter_occupied_households  pct_renter_occupied  \\\n0    b     45009.0                      6944.0               37.218   \n1    a      9872.0                      1224.0               31.773   \n2    b     17625.0                      1725.0               21.973   \n3    a    134136.0                     18180.0               36.809   \n4    a      6936.0                       551.0               17.627   \n\n   median_gross_rent  median_household_income  median_property_value  \\\n0              643.0                  33315.0                98494.0   \n1              517.0                  43724.0                85444.0   \n2              671.0                  37777.0               136162.0   \n3              603.0                  30607.0                70062.0   \n4              668.0                  44237.0               187066.0   \n\n   rent_burden  pct_white  pct_af_am        ...         \\\n0       33.389   0.412070   0.493459        ...          \n1       26.477   0.838682   0.015588        ...          \n2       32.500   0.873733   0.041040        ...          \n3       31.959   0.264083   0.240836        ...          \n4       29.339   0.924502   0.005146        ...          \n\n   pop_per_primary_care_physician  pct_female  pct_below_18_years_of_age  \\\n0                          1960.0       0.532                      0.252   \n1                           890.0       0.509                      0.252   \n2                          3509.0       0.451                      0.166   \n3                          2219.0       0.519                      0.263   \n4                          3410.0       0.487                      0.196   \n\n   pct_aged_65_years_and_older  pct_adults_less_than_a_high_school_diploma  \\\n0                        0.153                                    0.233000   \n1                        0.188                                    0.073293   \n2                        0.189                                    0.206587   \n3                        0.125                                    0.248255   \n4                        0.203                                    0.058648   \n\n   pct_adults_with_high_school_diploma  pct_adults_with_some_college  \\\n0                             0.375000                      0.278000   \n1                             0.397590                      0.331325   \n2                             0.303393                      0.301397   \n3                             0.334995                      0.290130   \n4                             0.276342                      0.413519   \n\n  pct_adults_bachelors_or_higher birth_rate_per_1k death_rate_per_1k  \n0                       0.114000         12.915129         11.205112  \n1                       0.197791         11.049159         12.276843  \n2                       0.188623          7.903576         10.161741  \n3                       0.126620         13.137119         10.202072  \n4                       0.251491          6.084752          5.939877  \n\n[5 rows x 45 columns]"
          },
          "metadata": {}
        }
      ]
    },
    {
      "metadata": {
        "trusted": true
      },
      "cell_type": "code",
      "source": "print(data['rucc'].unique())\nFeatures_o = data['rucc']\nenc = preprocessing.LabelEncoder()\nenc.fit(Features_o)\nFeatures_o = enc.transform(Features_o)\nprint(Features_o)",
      "execution_count": 50,
      "outputs": [
        {
          "output_type": "stream",
          "text": "['Nonmetro - Urban population of 20,000 or more, adjacent to a metro area'\n 'Nonmetro - Urban population of 2,500 to 19,999, adjacent to a metro area'\n 'Nonmetro - Completely rural or less than 2,500 urban population, adjacent to a metro area'\n 'Metro - Counties in metro areas of 250,000 to 1 million population'\n 'Metro - Counties in metro areas of 1 million population or more'\n 'Nonmetro - Completely rural or less than 2,500 urban population, not adjacent to a metro area'\n 'Nonmetro - Urban population of 2,500 to 19,999, not adjacent to a metro area'\n 'Metro - Counties in metro areas of fewer than 250,000 population'\n 'Nonmetro - Urban population of 20,000 or more, not adjacent to a metro area']\n[7 5 3 ... 2 5 1]\n",
          "name": "stdout"
        }
      ]
    },
    {
      "metadata": {
        "trusted": true
      },
      "cell_type": "code",
      "source": "ohe = preprocessing.OneHotEncoder()\nencoded = ohe.fit(Features_o.reshape(-1,1))\nFeatures_o = encoded.transform(Features_o.reshape(-1,1)).toarray()\nFeatures_o[:10,:]",
      "execution_count": 51,
      "outputs": [
        {
          "output_type": "execute_result",
          "execution_count": 51,
          "data": {
            "text/plain": "array([[0., 0., 0., 0., 0., 0., 0., 1., 0.],\n       [0., 0., 0., 0., 0., 1., 0., 0., 0.],\n       [0., 0., 0., 1., 0., 0., 0., 0., 0.],\n       [0., 0., 0., 0., 0., 0., 0., 1., 0.],\n       [0., 1., 0., 0., 0., 0., 0., 0., 0.],\n       [1., 0., 0., 0., 0., 0., 0., 0., 0.],\n       [0., 0., 0., 0., 0., 1., 0., 0., 0.],\n       [1., 0., 0., 0., 0., 0., 0., 0., 0.],\n       [0., 0., 0., 0., 0., 1., 0., 0., 0.],\n       [0., 1., 0., 0., 0., 0., 0., 0., 0.]])"
          },
          "metadata": {}
        }
      ]
    },
    {
      "metadata": {
        "trusted": true
      },
      "cell_type": "code",
      "source": "def encode_string(cat_feature):\n    ## First encode the strings to numeric categories\n    enc = preprocessing.LabelEncoder()\n    enc.fit(cat_feature)\n    enc_cat_feature = enc.transform(cat_feature)\n    ## Now, apply one hot encoding\n    ohe = preprocessing.OneHotEncoder()\n    encoded = ohe.fit(enc_cat_feature.reshape(-1,1))\n    return encoded.transform(enc_cat_feature.reshape(-1,1)).toarray()\n    \n\ncategorical_columns = ['urban_influence', 'economic_typology',\"year\"]\n\nfor col in categorical_columns:\n    temp = encode_string(data[col])\n    Features_o = np.concatenate([Features_o, temp], axis = 1)\n\nprint(Features_o.shape)\nprint(Features_o[:2, :])  ",
      "execution_count": 52,
      "outputs": [
        {
          "output_type": "stream",
          "text": "(2546, 29)\n[[0. 0. 0. 0. 0. 0. 0. 1. 0. 0. 1. 0. 0. 0. 0. 0. 0. 0. 0. 0. 0. 0. 0. 0.\n  0. 1. 0. 0. 1.]\n [0. 0. 0. 0. 0. 1. 0. 0. 0. 0. 0. 0. 0. 0. 0. 1. 0. 0. 0. 0. 0. 0. 0. 0.\n  0. 1. 0. 1. 0.]]\n",
          "name": "stdout"
        }
      ]
    },
    {
      "metadata": {
        "trusted": true
      },
      "cell_type": "code",
      "source": "Features_o = np.concatenate([Features_o, np.array(data[[\"population\", \"renter_occupied_households\", \"pct_renter_occupied\", \"pct_asian\",\"median_gross_rent\", \"pct_adults_bachelors_or_higher\", \"pct_af_am\", \"pct_other\", \"birth_rate_per_1k\", \"median_property_value\", \"homicides_per_100k\", \"rent_burden\", \"pct_hispanic\", \"median_household_income\",\"pct_female\", \"pct_below_18_years_of_age\", \"pct_civilian_labor\", \"pct_multiple\", \"pct_low_birthweight\", \"pct_uninsured_adults\", \"poverty_rate\", \"pct_nh_pi\", \"pct_excessive_drinking\", \"pct_unemployment\", \"pct_adults_with_some_college\", \"air_pollution_particulate_matter_value\", \"pct_uninsured_children\", \"pct_am_ind\", \"pct_adults_less_than_a_high_school_diploma\", \"heart_disease_mortality_per_100k\", \"pct_diabetes\", \"pct_adult_obesity\", \"pop_per_primary_care_physician\", \"pct_adult_smoking\", \"pct_physical_inactivity\", \"pop_per_dentist\", \"death_rate_per_1k\", \"motor_vehicle_crash_deaths_per_100k\", \"pct_aged_65_years_and_older\", \"pct_white\", \"pct_adults_with_high_school_diploma\"\n]])], axis = 1)\nFeatures_o[:2,:]\nprint(Features_o.shape)",
      "execution_count": 53,
      "outputs": [
        {
          "output_type": "stream",
          "text": "(2546, 70)\n",
          "name": "stdout"
        }
      ]
    },
    {
      "metadata": {
        "trusted": true
      },
      "cell_type": "code",
      "source": "from sklearn import feature_selection as fs\nprint(Features_o.shape)\n\n## Define the variance threhold and fit the threshold to the feature array. \nsel = fs.VarianceThreshold(threshold=(.8 * (1 - .8)))\nFeatures_reduced = sel.fit_transform(Features_o)\n\n## Print the support and shape for the transformed features\nprint(sel.get_support())\nprint(Features_reduced.shape)",
      "execution_count": 54,
      "outputs": [
        {
          "output_type": "stream",
          "text": "(2546, 70)\n[False False False False False False False False False False False False\n False False False False False False False False  True False False False\n False  True False  True  True  True  True  True False  True False False\n False  True  True  True  True False  True False False False False False\n False  True False False False False  True False False False  True False\n False  True False False  True  True  True False False False]\n(2546, 20)\n",
          "name": "stdout"
        }
      ]
    },
    {
      "metadata": {
        "trusted": true
      },
      "cell_type": "code",
      "source": "Features=np.array(Features_reduced)\nprint(Features.shape)\n\n",
      "execution_count": 55,
      "outputs": [
        {
          "output_type": "stream",
          "text": "(2546, 20)\n",
          "name": "stdout"
        }
      ]
    },
    {
      "metadata": {
        "trusted": true
      },
      "cell_type": "code",
      "source": "",
      "execution_count": null,
      "outputs": []
    },
    {
      "metadata": {
        "trusted": true
      },
      "cell_type": "code",
      "source": "nr.seed(123)\ninside = ms.KFold(n_splits=10, shuffle = True)\nnr.seed(321)\noutside = ms.KFold(n_splits=10, shuffle = True)",
      "execution_count": 56,
      "outputs": []
    },
    {
      "metadata": {
        "trusted": true
      },
      "cell_type": "code",
      "source": "nr.seed(1115)\nindx = range(Features.shape[0])\nindx = ms.train_test_split(indx, test_size =764)\nX_train = Features[indx[0],:]\ny_train = np.ravel(Labels[indx[0]])\nX_test = Features[indx[1],:]\ny_test = np.ravel(Labels[indx[1]])",
      "execution_count": 57,
      "outputs": []
    },
    {
      "metadata": {
        "trusted": true
      },
      "cell_type": "code",
      "source": "#\"learning_rate\": [0.1, 1, 10]\nnr.seed(1115)\nab_mod = AdaBoostRegressor(learning_rate = 0.1) \nab_mod.fit(X_train, y_train)",
      "execution_count": 67,
      "outputs": [
        {
          "output_type": "execute_result",
          "execution_count": 67,
          "data": {
            "text/plain": "AdaBoostRegressor(base_estimator=None, learning_rate=0.1, loss='linear',\n         n_estimators=50, random_state=None)"
          },
          "metadata": {}
        }
      ]
    },
    {
      "metadata": {
        "trusted": true
      },
      "cell_type": "code",
      "source": "def print_metrics(y_true, y_predicted, n_parameters):\n    ## First compute R^2 and the adjusted R^2\n    r2 = sklm.r2_score(y_true, y_predicted)\n    r2_adj = r2 - (n_parameters - 1)/(y_true.shape[0] - n_parameters) * (1 - r2)\n    \n    ## Print the usual metrics and the R^2 values\n    print('Mean Square Error      = ' + str(sklm.mean_squared_error(y_true, y_predicted)))\n    print('Root Mean Square Error = ' + str(math.sqrt(sklm.mean_squared_error(y_true, y_predicted))))\n    print('Mean Absolute Error    = ' + str(sklm.mean_absolute_error(y_true, y_predicted)))\n    print('Median Absolute Error  = ' + str(sklm.median_absolute_error(y_true, y_predicted)))\n    print('R^2                    = ' + str(r2))\n    print('Adjusted R^2           = ' + str(r2_adj))\n   \ny_score = ab_mod.predict(X_test) \nprint_metrics(y_test, y_score, 44)    ",
      "execution_count": 68,
      "outputs": [
        {
          "output_type": "stream",
          "text": "Mean Square Error      = 285012.46789719106\nRoot Mean Square Error = 533.8655897294665\nMean Absolute Error    = 212.23947611189814\nMedian Absolute Error  = 67.63585434173669\nR^2                    = 0.8618787452041674\nAdjusted R^2           = 0.8528250653928552\n",
          "name": "stdout"
        }
      ]
    },
    {
      "metadata": {
        "trusted": true
      },
      "cell_type": "code",
      "source": "def hist_resids(y_test, y_score):\n    ## first compute vector of residuals. \n    resids = np.subtract(y_test.reshape(-1,1), y_score.reshape(-1,1))\n    ## now make the residual plots\n    sns.distplot(resids)\n    plt.title('Histogram of residuals')\n    plt.xlabel('Residual value')\n    plt.ylabel('count')\n    \nhist_resids(y_test, y_score) ",
      "execution_count": 69,
      "outputs": [
        {
          "output_type": "display_data",
          "data": {
            "image/png": "[encoded data removed]",
            "text/plain": "<Figure size 432x288 with 1 Axes>"
          },
          "metadata": {
            "needs_background": "light"
          }
        }
      ]
    },
    {
      "metadata": {
        "trusted": true
      },
      "cell_type": "code",
      "source": "def resid_qq(y_test, y_score):\n    ## first compute vector of residuals. \n    resids = np.subtract(y_test.reshape(-1,1), y_score.reshape(-1,1))\n    ## now make the residual plots\n    ss.probplot(resids.flatten(), plot = plt)\n    plt.title('Residuals vs. predicted values')\n    plt.xlabel('Predicted values')\n    plt.ylabel('Residual')\n    \nresid_qq(y_test, y_score)",
      "execution_count": 70,
      "outputs": [
        {
          "output_type": "display_data",
          "data": {
            "image/png": "[encoded data removed]",
            "text/plain": "<Figure size 432x288 with 1 Axes>"
          },
          "metadata": {
            "needs_background": "light"
          }
        }
      ]
    },
    {
      "metadata": {
        "trusted": true
      },
      "cell_type": "code",
      "source": "def resid_plot(y_test, y_score):\n    ## first compute vector of residuals. \n    ##resids = np.subtract(y_test.reshape(-1,1), y_score.reshape(-1,1))\n    ## now make the residual plots\n    sns.regplot(y_score, y_test, fit_reg=False)\n    plt.title('Actual vs. predicted values')\n    plt.xlabel('Predicted values')\n    plt.ylabel('Residual')\n\nresid_plot(y_test, y_score) ",
      "execution_count": 71,
      "outputs": [
        {
          "output_type": "display_data",
          "data": {
            "image/png": "[encoded data removed]",
            "text/plain": "<Figure size 432x288 with 1 Axes>"
          },
          "metadata": {
            "needs_background": "light"
          }
        }
      ]
    },
    {
      "metadata": {
        "trusted": true
      },
      "cell_type": "code",
      "source": "test1=pd.read_csv('test_values.csv')\ntest1.drop([\"row_id\",\"county_code\",\"state\"], axis=1, inplace=True)\n\nprint(test1.shape)",
      "execution_count": 72,
      "outputs": [
        {
          "output_type": "stream",
          "text": "(2420, 45)\n",
          "name": "stdout"
        }
      ]
    },
    {
      "metadata": {
        "trusted": true
      },
      "cell_type": "code",
      "source": "test=test1.fillna(value=0)\nprint(test.shape)",
      "execution_count": 73,
      "outputs": [
        {
          "output_type": "stream",
          "text": "(2420, 45)\n",
          "name": "stdout"
        }
      ]
    },
    {
      "metadata": {
        "trusted": true
      },
      "cell_type": "code",
      "source": "print(test['rucc'].unique())\nFeatures_o1 = test['rucc']\nenc = preprocessing.LabelEncoder()\nenc.fit(Features_o1)\nFeatures_o1 = enc.transform(Features_o1)\nprint(Features_o1)",
      "execution_count": 74,
      "outputs": [
        {
          "output_type": "stream",
          "text": "['Metro - Counties in metro areas of fewer than 250,000 population'\n 'Nonmetro - Completely rural or less than 2,500 urban population, not adjacent to a metro area'\n 'Metro - Counties in metro areas of 250,000 to 1 million population'\n 'Nonmetro - Urban population of 20,000 or more, adjacent to a metro area'\n 'Nonmetro - Completely rural or less than 2,500 urban population, adjacent to a metro area'\n 'Metro - Counties in metro areas of 1 million population or more'\n 'Nonmetro - Urban population of 2,500 to 19,999, adjacent to a metro area'\n 'Nonmetro - Urban population of 2,500 to 19,999, not adjacent to a metro area'\n 'Nonmetro - Urban population of 20,000 or more, not adjacent to a metro area']\n[2 2 4 ... 7 1 2]\n",
          "name": "stdout"
        }
      ]
    },
    {
      "metadata": {
        "trusted": true
      },
      "cell_type": "code",
      "source": "ohe = preprocessing.OneHotEncoder()\nencoded = ohe.fit(Features_o1.reshape(-1,1))\nFeatures_o1 = encoded.transform(Features_o1.reshape(-1,1)).toarray()\nFeatures_o1[:10,:]",
      "execution_count": 75,
      "outputs": [
        {
          "output_type": "execute_result",
          "execution_count": 75,
          "data": {
            "text/plain": "array([[0., 0., 1., 0., 0., 0., 0., 0., 0.],\n       [0., 0., 1., 0., 0., 0., 0., 0., 0.],\n       [0., 0., 0., 0., 1., 0., 0., 0., 0.],\n       [0., 1., 0., 0., 0., 0., 0., 0., 0.],\n       [0., 0., 0., 0., 0., 0., 0., 1., 0.],\n       [0., 1., 0., 0., 0., 0., 0., 0., 0.],\n       [0., 0., 0., 1., 0., 0., 0., 0., 0.],\n       [1., 0., 0., 0., 0., 0., 0., 0., 0.],\n       [0., 1., 0., 0., 0., 0., 0., 0., 0.],\n       [0., 0., 0., 0., 0., 1., 0., 0., 0.]])"
          },
          "metadata": {}
        }
      ]
    },
    {
      "metadata": {
        "trusted": true
      },
      "cell_type": "code",
      "source": "def encode_string(cat_feature):\n    ## First encode the strings to numeric categories\n    enc = preprocessing.LabelEncoder()\n    enc.fit(cat_feature)\n    enc_cat_feature = enc.transform(cat_feature)\n    ## Now, apply one hot encoding\n    ohe = preprocessing.OneHotEncoder()\n    encoded = ohe.fit(enc_cat_feature.reshape(-1,1))\n    return encoded.transform(enc_cat_feature.reshape(-1,1)).toarray()\n    \n\ncategorical_columns = ['urban_influence', 'economic_typology',\"year\"]\n\nfor col in categorical_columns:\n    temp = encode_string(test[col])\n    Features_o1 = np.concatenate([Features_o1, temp], axis = 1)\n\nprint(Features_o1.shape)\nprint(Features_o1[:2, :]) ",
      "execution_count": 76,
      "outputs": [
        {
          "output_type": "stream",
          "text": "(2420, 29)\n[[0. 0. 1. 0. 0. 0. 0. 0. 0. 0. 0. 0. 0. 0. 0. 0. 0. 0. 0. 0. 1. 0. 0. 1.\n  0. 0. 0. 1. 0.]\n [0. 0. 1. 0. 0. 0. 0. 0. 0. 0. 0. 0. 0. 0. 0. 0. 0. 0. 0. 0. 1. 0. 0. 1.\n  0. 0. 0. 0. 1.]]\n",
          "name": "stdout"
        }
      ]
    },
    {
      "metadata": {
        "trusted": true
      },
      "cell_type": "code",
      "source": "Features_o1 = np.concatenate([Features_o1, np.array(test[[\"population\", \"renter_occupied_households\", \"pct_renter_occupied\", \"pct_asian\",\"median_gross_rent\", \"pct_adults_bachelors_or_higher\", \"pct_af_am\", \"pct_other\", \"birth_rate_per_1k\", \"median_property_value\", \"homicides_per_100k\", \"rent_burden\", \"pct_hispanic\", \"median_household_income\",\"pct_female\", \"pct_below_18_years_of_age\", \"pct_civilian_labor\", \"pct_multiple\", \"pct_low_birthweight\", \"pct_uninsured_adults\", \"poverty_rate\", \"pct_nh_pi\", \"pct_excessive_drinking\", \"pct_unemployment\", \"pct_adults_with_some_college\", \"air_pollution_particulate_matter_value\", \"pct_uninsured_children\", \"pct_am_ind\", \"pct_adults_less_than_a_high_school_diploma\", \"heart_disease_mortality_per_100k\", \"pct_diabetes\", \"pct_adult_obesity\", \"pop_per_primary_care_physician\", \"pct_adult_smoking\", \"pct_physical_inactivity\", \"pop_per_dentist\", \"death_rate_per_1k\", \"motor_vehicle_crash_deaths_per_100k\", \"pct_aged_65_years_and_older\", \"pct_white\", \"pct_adults_with_high_school_diploma\"\n]])], axis = 1)\nFeatures_o1[:2,:]",
      "execution_count": 77,
      "outputs": [
        {
          "output_type": "execute_result",
          "execution_count": 77,
          "data": {
            "text/plain": "array([[0.00000000e+00, 0.00000000e+00, 1.00000000e+00, 0.00000000e+00,\n        0.00000000e+00, 0.00000000e+00, 0.00000000e+00, 0.00000000e+00,\n        0.00000000e+00, 0.00000000e+00, 0.00000000e+00, 0.00000000e+00,\n        0.00000000e+00, 0.00000000e+00, 0.00000000e+00, 0.00000000e+00,\n        0.00000000e+00, 0.00000000e+00, 0.00000000e+00, 0.00000000e+00,\n        1.00000000e+00, 0.00000000e+00, 0.00000000e+00, 1.00000000e+00,\n        0.00000000e+00, 0.00000000e+00, 0.00000000e+00, 1.00000000e+00,\n        0.00000000e+00, 1.71046000e+05, 1.73420000e+04, 2.53100000e+01,\n        5.13487813e-03, 6.72000000e+02, 1.83734940e-01, 1.36739903e-01,\n        3.00285271e-04, 1.22384616e+01, 9.93530000e+04, 2.90000000e+00,\n        3.47380000e+01, 5.18692758e-02, 4.28280000e+04, 5.09000000e-01,\n        2.39000000e-01, 4.44000000e-01, 3.13898203e-02, 9.10000000e-02,\n        1.71000000e-01, 1.45720000e+01, 2.00190181e-04, 2.20000000e-01,\n        5.80000000e-02, 3.57429719e-01, 1.19034745e+01, 3.90000000e-02,\n        5.72543917e-03, 1.12449799e-01, 2.70000000e+02, 1.34000000e-01,\n        3.66000000e-01, 1.39900000e+03, 2.65000000e-01, 2.33000000e-01,\n        1.82900000e+03, 9.98324531e+00, 1.12600000e+01, 1.49000000e-01,\n        7.68640208e-01, 3.46385542e-01],\n       [0.00000000e+00, 0.00000000e+00, 1.00000000e+00, 0.00000000e+00,\n        0.00000000e+00, 0.00000000e+00, 0.00000000e+00, 0.00000000e+00,\n        0.00000000e+00, 0.00000000e+00, 0.00000000e+00, 0.00000000e+00,\n        0.00000000e+00, 0.00000000e+00, 0.00000000e+00, 0.00000000e+00,\n        0.00000000e+00, 0.00000000e+00, 0.00000000e+00, 0.00000000e+00,\n        1.00000000e+00, 0.00000000e+00, 0.00000000e+00, 1.00000000e+00,\n        0.00000000e+00, 0.00000000e+00, 0.00000000e+00, 0.00000000e+00,\n        1.00000000e+00, 1.14518000e+05, 1.37760000e+04, 2.94920000e+01,\n        5.06306306e-02, 6.57000000e+02, 2.32931727e-01, 1.40540541e-02,\n        2.00200200e-04, 1.02136086e+01, 1.49404000e+05, 0.00000000e+00,\n        2.51080000e+01, 5.89389389e-02, 5.37120000e+04, 4.97000000e-01,\n        2.34000000e-01, 5.33000000e-01, 1.44944945e-02, 6.00000000e-02,\n        1.19000000e-01, 6.75200000e+00, 1.00100100e-04, 2.75000000e-01,\n        4.60000000e-02, 3.11244980e-01, 1.16092603e+01, 4.50000000e-02,\n        2.28228228e-03, 8.93574297e-02, 2.39000000e+02, 9.50000000e-02,\n        2.69000000e-01, 1.79000000e+03, 1.69000000e-01, 2.28000000e-01,\n        1.96000000e+03, 8.90216735e+00, 9.94000000e+00, 1.54000000e-01,\n        8.59299299e-01, 3.66465863e-01]])"
          },
          "metadata": {}
        }
      ]
    },
    {
      "metadata": {
        "trusted": true
      },
      "cell_type": "code",
      "source": "Features_reduced1 = sel.fit_transform(Features_o1)\nprint(Features_reduced1.shape)",
      "execution_count": 80,
      "outputs": [
        {
          "output_type": "stream",
          "text": "(2420, 20)\n",
          "name": "stdout"
        }
      ]
    },
    {
      "metadata": {
        "trusted": true
      },
      "cell_type": "code",
      "source": "Features1=np.array(Features_reduced1)\nprint(Features.shape)",
      "execution_count": 81,
      "outputs": [
        {
          "output_type": "stream",
          "text": "(2420, 20)\n",
          "name": "stdout"
        }
      ]
    },
    {
      "metadata": {
        "trusted": true
      },
      "cell_type": "code",
      "source": "y_score1 = ab_mod.predict(Features1)",
      "execution_count": 85,
      "outputs": []
    },
    {
      "metadata": {
        "trusted": true
      },
      "cell_type": "code",
      "source": "print(y_score1)",
      "execution_count": 86,
      "outputs": [
        {
          "output_type": "stream",
          "text": "[654.94565217 121.59317804  70.63585434 ...  86.02891263  86.02891263\n  86.02891263]\n",
          "name": "stdout"
        }
      ]
    },
    {
      "metadata": {
        "trusted": true
      },
      "cell_type": "code",
      "source": "np.savetxt(\"adaboost.csv\", y_score1, delimiter=\",\")",
      "execution_count": 87,
      "outputs": []
    },
    {
      "metadata": {
        "trusted": true
      },
      "cell_type": "code",
      "source": "",
      "execution_count": null,
      "outputs": []
    }
  ],
  "metadata": {
    "kernelspec": {
      "name": "python36",
      "display_name": "Python 3.6",
      "language": "python"
    },
    "language_info": {
      "mimetype": "text/x-python",
      "nbconvert_exporter": "python",
      "name": "python",
      "pygments_lexer": "ipython3",
      "version": "3.6.6",
      "file_extension": ".py",
      "codemirror_mode": {
        "version": 3,
        "name": "ipython"
      }
    }
  },
  "nbformat": 4,
  "nbformat_minor": 2
}