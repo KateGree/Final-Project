{
  "cells": [
    {
      "metadata": {
        "trusted": true
      },
      "cell_type": "code",
      "source": "from pyspark.sql.types import *\nfrom pyspark.sql.functions import *\n\nfrom pyspark.ml.regression import LinearRegression\nfrom pyspark.ml.feature import VectorAssembler\n\nfrom pyspark.ml import Pipeline\nfrom pyspark.ml.classification import LogisticRegression\nfrom pyspark.ml.feature import  VectorAssembler, StringIndexer, VectorIndexer, MinMaxScaler\nfrom pyspark.ml.tuning import ParamGridBuilder, TrainValidationSplit, CrossValidator\nfrom pyspark.ml.evaluation import BinaryClassificationEvaluator\n\nfrom pyspark.ml.evaluation import RegressionEvaluator\n",
      "execution_count": 1,
      "outputs": [
        {
          "output_type": "error",
          "ename": "ModuleNotFoundError",
          "evalue": "No module named 'pyspark'",
          "traceback": [
            "\u001b[0;31m---------------------------------------------------------------------------\u001b[0m",
            "\u001b[0;31mModuleNotFoundError\u001b[0m                       Traceback (most recent call last)",
            "\u001b[0;32m<ipython-input-1-714a07bfa181>\u001b[0m in \u001b[0;36m<module>\u001b[0;34m\u001b[0m\n\u001b[0;32m----> 1\u001b[0;31m \u001b[0;32mfrom\u001b[0m \u001b[0mpyspark\u001b[0m\u001b[0;34m.\u001b[0m\u001b[0msql\u001b[0m\u001b[0;34m.\u001b[0m\u001b[0mtypes\u001b[0m \u001b[0;32mimport\u001b[0m \u001b[0;34m*\u001b[0m\u001b[0;34m\u001b[0m\u001b[0m\n\u001b[0m\u001b[1;32m      2\u001b[0m \u001b[0;32mfrom\u001b[0m \u001b[0mpyspark\u001b[0m\u001b[0;34m.\u001b[0m\u001b[0msql\u001b[0m\u001b[0;34m.\u001b[0m\u001b[0mfunctions\u001b[0m \u001b[0;32mimport\u001b[0m \u001b[0;34m*\u001b[0m\u001b[0;34m\u001b[0m\u001b[0m\n\u001b[1;32m      3\u001b[0m \u001b[0;34m\u001b[0m\u001b[0m\n\u001b[1;32m      4\u001b[0m \u001b[0;32mfrom\u001b[0m \u001b[0mpyspark\u001b[0m\u001b[0;34m.\u001b[0m\u001b[0mml\u001b[0m\u001b[0;34m.\u001b[0m\u001b[0mregression\u001b[0m \u001b[0;32mimport\u001b[0m \u001b[0mLinearRegression\u001b[0m\u001b[0;34m\u001b[0m\u001b[0m\n\u001b[1;32m      5\u001b[0m \u001b[0;32mfrom\u001b[0m \u001b[0mpyspark\u001b[0m\u001b[0;34m.\u001b[0m\u001b[0mml\u001b[0m\u001b[0;34m.\u001b[0m\u001b[0mfeature\u001b[0m \u001b[0;32mimport\u001b[0m \u001b[0mVectorAssembler\u001b[0m\u001b[0;34m\u001b[0m\u001b[0m\n",
            "\u001b[0;31mModuleNotFoundError\u001b[0m: No module named 'pyspark'"
          ]
        }
      ]
    },
    {
      "metadata": {
        "trusted": true
      },
      "cell_type": "code",
      "source": "#loading data\ntval=spark.read.csv('wasb:///data/train_values_oAriVNN.csv', inferSchema=True, header=True)\ntlab=spark.read.csv('wasb:///data/train_labels.csv', inferSchema=True, header=True)\nout=spark.read.csv('wasb:///data/test_values.csv', inferSchema=True, header=True)\n",
      "execution_count": 1,
      "outputs": [
        {
          "output_type": "error",
          "ename": "NameError",
          "evalue": "name 'spark' is not defined",
          "traceback": [
            "\u001b[0;31m---------------------------------------------------------------------------\u001b[0m",
            "\u001b[0;31mNameError\u001b[0m                                 Traceback (most recent call last)",
            "\u001b[0;32m<ipython-input-1-47d737204255>\u001b[0m in \u001b[0;36m<module>\u001b[0;34m\u001b[0m\n\u001b[1;32m      1\u001b[0m \u001b[0;31m#loading data\u001b[0m\u001b[0;34m\u001b[0m\u001b[0;34m\u001b[0m\u001b[0m\n\u001b[0;32m----> 2\u001b[0;31m \u001b[0mtval\u001b[0m\u001b[0;34m=\u001b[0m\u001b[0mspark\u001b[0m\u001b[0;34m.\u001b[0m\u001b[0mread\u001b[0m\u001b[0;34m.\u001b[0m\u001b[0mcsv\u001b[0m\u001b[0;34m(\u001b[0m\u001b[0;34m'wasb:///data/train_values_oAriVNN.csv'\u001b[0m\u001b[0;34m,\u001b[0m \u001b[0minferSchema\u001b[0m\u001b[0;34m=\u001b[0m\u001b[0;32mTrue\u001b[0m\u001b[0;34m,\u001b[0m \u001b[0mheader\u001b[0m\u001b[0;34m=\u001b[0m\u001b[0;32mTrue\u001b[0m\u001b[0;34m)\u001b[0m\u001b[0;34m\u001b[0m\u001b[0m\n\u001b[0m\u001b[1;32m      3\u001b[0m \u001b[0mtlab\u001b[0m\u001b[0;34m=\u001b[0m\u001b[0mspark\u001b[0m\u001b[0;34m.\u001b[0m\u001b[0mread\u001b[0m\u001b[0;34m.\u001b[0m\u001b[0mcsv\u001b[0m\u001b[0;34m(\u001b[0m\u001b[0;34m'wasb:///data/train_labels.csv'\u001b[0m\u001b[0;34m,\u001b[0m \u001b[0minferSchema\u001b[0m\u001b[0;34m=\u001b[0m\u001b[0;32mTrue\u001b[0m\u001b[0;34m,\u001b[0m \u001b[0mheader\u001b[0m\u001b[0;34m=\u001b[0m\u001b[0;32mTrue\u001b[0m\u001b[0;34m)\u001b[0m\u001b[0;34m\u001b[0m\u001b[0m\n\u001b[1;32m      4\u001b[0m \u001b[0mtest\u001b[0m\u001b[0;34m=\u001b[0m\u001b[0mspark\u001b[0m\u001b[0;34m.\u001b[0m\u001b[0mread\u001b[0m\u001b[0;34m.\u001b[0m\u001b[0mcsv\u001b[0m\u001b[0;34m(\u001b[0m\u001b[0;34m'wasb:///data/test_values.csv'\u001b[0m\u001b[0;34m,\u001b[0m \u001b[0minferSchema\u001b[0m\u001b[0;34m=\u001b[0m\u001b[0;32mTrue\u001b[0m\u001b[0;34m,\u001b[0m \u001b[0mheader\u001b[0m\u001b[0;34m=\u001b[0m\u001b[0;32mTrue\u001b[0m\u001b[0;34m)\u001b[0m\u001b[0;34m\u001b[0m\u001b[0m\n",
            "\u001b[0;31mNameError\u001b[0m: name 'spark' is not defined"
          ]
        }
      ]
    },
    {
      "metadata": {
        "trusted": true
      },
      "cell_type": "code",
      "source": "#merging data (values+labels)\ndata1 = tval.join(tlab, tval.row_id == tval.row_id)\ndata1.show()",
      "execution_count": null,
      "outputs": []
    },
    {
      "metadata": {
        "trusted": true
      },
      "cell_type": "code",
      "source": "# Select features and label\ndata = data1.select(\"population\", \"renter_occupied_households\", \"pct_renter_occupied\", \"pct_asian\", \"rucc\", \"urban_influence\", \"economic_typology\",\"median_gross_rent\", \"pct_adults_bachelors_or_higher\", \"pct_af_am\", \"pct_other\", \"birth_rate_per_1k\", \"median_property_value\", \"homicides_per_100k\", \"rent_burden\", \"pct_hispanic\", \"median_household_income\",\n                    \"pct_female\", \"pct_below_18_years_of_age\", \"pct_civilian_labor\", \"pct_multiple\", \"pct_low_birthweight\", \"pct_uninsured_adults\", \"poverty_rate\", \"pct_nh_pi\", \"pct_excessive_drinking\", \"pct_unemployment\", \"pct_adults_with_some_college\", \"air_pollution_particulate_matter_value\", \"pct_uninsured_children\", \"pct_am_ind\", \"pct_adults_less_than_a_high_school_diploma\", \"heart_disease_mortality_per_100k\", \"pct_diabetes\", \"pct_adult_obesity\", \"pop_per_primary_care_physician\", \"pct_adult_smoking\", \"pct_physical_inactivity\", \"pop_per_dentist\", \"death_rate_per_1k\", \"motor_vehicle_crash_deaths_per_100k\", \"pct_aged_65_years_and_older\", \"pct_white\", \"pct_adults_with_high_school_diploma\",col(\"evictions\").alias(\"label\"))\ndata.count()",
      "execution_count": null,
      "outputs": []
    },
    {
      "metadata": {
        "trusted": true
      },
      "cell_type": "code",
      "source": "#handling missing values flights.dropDuplicates()\n#data=flights.fillna(value=0, subset=[\"pct_adult_smoking\", \"pct_low_birthweight\", \"pct_excessive_drinking\", \"homicides_per_100k\", \"motor_vehicle_crash_deaths_per_100k\", \"pop_per_dentist\", \"pop_per_primary_care_physician\"])\n#data.count()",
      "execution_count": null,
      "outputs": []
    },
    {
      "metadata": {
        "trusted": true
      },
      "cell_type": "code",
      "source": "# Split the data\nsplits = data.randomSplit([0.7, 0.3])\ntrain = splits[0]\ntest = splits[1].withColumnRenamed(\"label\", \"trueLabel\")",
      "execution_count": null,
      "outputs": []
    },
    {
      "metadata": {
        "trusted": true
      },
      "cell_type": "code",
      "source": "#Define the pipeline\n\n#categorical values\nstrIdx1 = StringIndexer(inputCol = \"rucc\", outputCol = \"ruccIdx\")\nstrIdx2 = StringIndexer(inputCol = \"urban_influence\", outputCol = \"urban_influenceIdx\")\nstrIdx3 = StringIndexer(inputCol = \"economic_typology\", outputCol = \"economic_typologyIdx\")\ncatVect = VectorAssembler(inputCols = [\"ruccIdx\", \"urban_influenceIdx\", \"economic_typologyIdx\"], outputCol=\"catFeatures\")\ncatIdx = VectorIndexer(inputCol = catVect.getOutputCol(), outputCol = \"idxCatFeatures\")\n#numeric values\nnumVect = VectorAssembler(inputCols = [\"population\", \"renter_occupied_households\", \"pct_renter_occupied\", \"pct_asian\", \"median_gross_rent\", \"pct_adults_bachelors_or_higher\", \"pct_af_am\", \"pct_other\", \"birth_rate_per_1k\", \"median_property_value\", \"homicides_per_100k\", \"rent_burden\", \"pct_hispanic\", \"median_household_income\", \"pct_female\", \"pct_below_18_years_of_age\", \"pct_civilian_labor\", \"pct_multiple\", \"pct_low_birthweight\", \"pct_uninsured_adults\", \"poverty_rate\", \"pct_nh_pi\", \"pct_excessive_drinking\", \"pct_unemployment\", \"pct_adults_with_some_college\", \"air_pollution_particulate_matter_value\", \"pct_uninsured_children\", \"pct_am_ind\", \"pct_adults_less_than_a_high_school_diploma\", \"heart_disease_mortality_per_100k\", \"pct_diabetes\", \"pct_adult_obesity\", \"pop_per_primary_care_physician\", \"pct_adult_smoking\", \"pct_physical_inactivity\", \"pop_per_dentist\", \"death_rate_per_1k\", \"motor_vehicle_crash_deaths_per_100k\", \"pct_aged_65_years_and_older\", \"pct_white\", \"pct_adults_with_high_school_diploma\"], outputCol=\"numFeatures\")\nminMax = MinMaxScaler(inputCol = numVect.getOutputCol(), outputCol=\"normFeatures\")\nfeatVect = VectorAssembler(inputCols=[\"idxCatFeatures\", \"normFeatures\"], outputCol=\"features\")\nlr = LinearRegression(labelCol=\"label\", featuresCol=\"features\")\npipeline = Pipeline(stages=[strIdx1,strIdx2,strIdx3, catVect, catIdx, numVect, minMax, featVect, lr])",
      "execution_count": null,
      "outputs": []
    },
    {
      "metadata": {
        "trusted": true
      },
      "cell_type": "code",
      "source": "#tune parameters\nparamGrid = ParamGridBuilder().addGrid(lr.regParam, [0.3, 0.1, 0.01]).addGrid(lr.maxIter, [25, 15]).build()\ntvs = TrainValidationSplit(estimator=pipeline, evaluator=RegressionEvaluator(), estimatorParamMaps=paramGrid, trainRatio=0.8)\n\nmodel = tvs.fit(train)",
      "execution_count": null,
      "outputs": []
    },
    {
      "metadata": {
        "trusted": true
      },
      "cell_type": "code",
      "source": "# Test the Model\nprediction = model.transform(test)\npredicted = prediction.select(\"features\", \"prediction\", \"trueLabel\")\npredicted.show(100)",
      "execution_count": null,
      "outputs": []
    },
    {
      "metadata": {
        "trusted": true
      },
      "cell_type": "code",
      "source": "#Examine the Predicted and Actual Values\npredicted.createOrReplaceTempView(\"regressionPredictions\")\n",
      "execution_count": null,
      "outputs": []
    },
    {
      "metadata": {
        "trusted": true
      },
      "cell_type": "code",
      "source": "%%sql\nSELECT trueLabel, prediction FROM regressionPredictions",
      "execution_count": null,
      "outputs": []
    },
    {
      "metadata": {
        "trusted": true
      },
      "cell_type": "code",
      "source": "#Retrieve the Root Mean Square Error (RMSE)\n\nevaluator = RegressionEvaluator(labelCol=\"trueLabel\", predictionCol=\"prediction\", metricName=\"rmse\")\nrmse = evaluator.evaluate(prediction)\nprint \"Root Mean Square Error (RMSE):\", rmse\n",
      "execution_count": null,
      "outputs": []
    },
    {
      "metadata": {
        "trusted": true
      },
      "cell_type": "code",
      "source": "#getting results\noutcome = model.transform(out)",
      "execution_count": null,
      "outputs": []
    }
  ],
  "metadata": {
    "kernelspec": {
      "name": "python36",
      "display_name": "Python 3.6",
      "language": "python"
    },
    "language_info": {
      "mimetype": "text/x-python",
      "nbconvert_exporter": "python",
      "name": "python",
      "pygments_lexer": "ipython3",
      "version": "3.6.6",
      "file_extension": ".py",
      "codemirror_mode": {
        "version": 3,
        "name": "ipython"
      }
    }
  },
  "nbformat": 4,
  "nbformat_minor": 2
}